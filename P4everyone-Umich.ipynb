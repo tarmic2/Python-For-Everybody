{
 "cells": [
  {
   "cell_type": "markdown",
   "id": "5bff590f-2022-48b1-92a5-58218cc8bb1c",
   "metadata": {},
   "source": [
    "# Completed assignments from the course \"Python for Everyone - Univ Mich\"\n"
   ]
  },
  {
   "cell_type": "markdown",
   "id": "a7941568-a5f1-44a3-9592-34c2f82e9d90",
   "metadata": {},
   "source": [
    "#"
   ]
  },
  {
   "cell_type": "markdown",
   "id": "0247dae5-6104-453f-94a8-dde77b65a0d6",
   "metadata": {},
   "source": [
    "#### 1. VARIABLES, EXPRESSIONS, CONDITIONAL STATEMNTS, INPUT\n",
    "#### 2. FUNCTIONS\n",
    "#### 3. LOOPS AND ITERATIONS\n",
    "#### 4. STRINGS\n",
    "#### 5. LISTS\n",
    "#### 6. DICTIONARIES\n",
    "#### 7. TUPLES\n",
    "#### 8. REGULAR EXPRESSIONS\n",
    "#### 9. NETWORK CONNECTIONS\n",
    "#### 10. XML WEB SERVICES\n",
    "#### 11. SQL"
   ]
  },
  {
   "cell_type": "markdown",
   "id": "055df0f4-3632-4f83-96c6-5aa4588516e5",
   "metadata": {},
   "source": [
    "### 1. VARIABLES, EXPRESSIONS, CONDITIONAL STATEMNTS, INPUT"
   ]
  },
  {
   "cell_type": "code",
   "execution_count": 1,
   "id": "f2868292-e9a9-4bef-afe3-35fdff5d28ae",
   "metadata": {},
   "outputs": [
    {
     "name": "stdin",
     "output_type": "stream",
     "text": [
      "European floor? 4\n"
     ]
    },
    {
     "name": "stdout",
     "output_type": "stream",
     "text": [
      "US Floor: 5\n"
     ]
    }
   ],
   "source": [
    "#Convert elevator floors\n",
    "\n",
    "#ask for the EU floor, create variable input\n",
    "inp = input('European floor?') \n",
    "\n",
    "#create the expression by converting the string value of inp to int and add 1 to create the value of usf\n",
    "usf = int(inp) + 1 \n",
    "\n",
    "#TypeError: can only concatenate str (not \"int\") to str\n",
    "# usf = inp + 1 \n",
    "\n",
    "#print the number of us floors\n",
    "print('US Floor:', usf)"
   ]
  },
  {
   "cell_type": "code",
   "execution_count": 2,
   "id": "d6b90c96-0d9b-4cf6-b39b-cc950e97690a",
   "metadata": {},
   "outputs": [
    {
     "name": "stdin",
     "output_type": "stream",
     "text": [
      "Enter Hours: 45\n",
      "Enter Rate: 12.7\n"
     ]
    },
    {
     "name": "stdout",
     "output_type": "stream",
     "text": [
      "Gross Pay this week is: 571.5\n",
      "Rounded Gross Pay this week is: 572\n"
     ]
    }
   ],
   "source": [
    "#Write a program to prompt the user for hours and rate per hour to compute gross pay.\n",
    "\n",
    "#Float the string number from the input.\n",
    "hrs = float(input(\"Enter Hours:\"))\n",
    "rate = float(input(\"Enter Rate:\"))\n",
    "\n",
    "#Create pay variable\n",
    "pay = hrs * rate\n",
    "\n",
    "#print the variable\n",
    "print('Gross Pay this week is:', pay)\n",
    "print('Rounded Gross Pay this week is:', round(pay)) #will round up or down based on .5"
   ]
  },
  {
   "cell_type": "code",
   "execution_count": 3,
   "id": "8f4dcff4-983d-419b-9d77-493552511d33",
   "metadata": {},
   "outputs": [
    {
     "name": "stdout",
     "output_type": "stream",
     "text": [
      "X is Bigger than 5\n",
      "X is Bigger than 7\n",
      "X is Bigger than 8\n",
      "Program complete!\n"
     ]
    }
   ],
   "source": [
    "#Create conditional if statments with x = 9\n",
    "\n",
    "x = 9\n",
    "if x > 5:\n",
    "    print('X is Bigger than 5')\n",
    "if x > 7:\n",
    "    print('X is Bigger than 7')\n",
    "if x > 8:\n",
    "    print('X is Bigger than 8')\n",
    "else:\n",
    "    print('x is Less than 2')\n",
    "    \n",
    "print('Program complete!')"
   ]
  },
  {
   "cell_type": "code",
   "execution_count": 4,
   "id": "9a55ceea-00b9-4d9c-a2b8-9a72ffc12a60",
   "metadata": {},
   "outputs": [
    {
     "name": "stdout",
     "output_type": "stream",
     "text": [
      "Small\n",
      "All Done!\n"
     ]
    }
   ],
   "source": [
    "#Create conditional if statments with x = 2\n",
    "\n",
    "x = 2\n",
    "if x < 5:\n",
    "    print('Small')\n",
    "elif  x < 10:\n",
    "    print('Med')\n",
    "    pass #can be used as a place holder\n",
    "\n",
    "else:\n",
    "    print('large')\n",
    "    \n",
    "print('All Done!')"
   ]
  },
  {
   "cell_type": "code",
   "execution_count": 5,
   "id": "274f7955-6ba1-43a3-92e2-92cd67eb04c7",
   "metadata": {},
   "outputs": [
    {
     "name": "stdin",
     "output_type": "stream",
     "text": [
      "Enter Fahrenheit Temperature:  89.4\n"
     ]
    },
    {
     "name": "stdout",
     "output_type": "stream",
     "text": [
      "Cel: 32\n"
     ]
    }
   ],
   "source": [
    "# Using try and except convert F to C\n",
    "\n",
    "inp = input('Enter Fahrenheit Temperature: ')\n",
    "try:\n",
    "    fahr = float(inp)\n",
    "    cel = (fahr - 32.0) * 5.0 / 9.0\n",
    "    print('Cel:', round(cel))\n",
    "except:\n",
    "    print('Enter a number!')\n"
   ]
  },
  {
   "cell_type": "code",
   "execution_count": 6,
   "id": "6aa717b2-a66c-4c17-9035-619305e853c9",
   "metadata": {},
   "outputs": [
    {
     "name": "stdin",
     "output_type": "stream",
     "text": [
      "Enter Hours: 48\n",
      "Enter Rate: 15.3\n"
     ]
    },
    {
     "name": "stdout",
     "output_type": "stream",
     "text": [
      "overtime pay:  795.6000000000001\n"
     ]
    }
   ],
   "source": [
    "#Write a pay program using try and except so that your\n",
    "#program handles non-numeric input gracefully by printing a message\n",
    "#and exiting the program. The following shows two executions of the program:\n",
    "\n",
    "\n",
    "hrs = input(\"Enter Hours:\")\n",
    "rate = input(\"Enter Rate:\")\n",
    "\n",
    "try:\n",
    "    h = float(hrs)\n",
    "    r = float(rate)\n",
    "except:\n",
    "    print(\"Error, please enter numeric value\")\n",
    "    \n",
    "#define variables\n",
    "reg = h * r\n",
    "over = (h - 40.0) * (r * 0.5)\n",
    "comb = reg + over\n",
    "\n",
    "#overtime calc\n",
    "if h > 40:\n",
    "    print('overtime pay: ', comb)\n",
    "\n",
    "#regular\n",
    "else:\n",
    "    reg = h * r\n",
    "    print('regular pay: ',reg)"
   ]
  },
  {
   "cell_type": "code",
   "execution_count": 7,
   "id": "a2c20ebf-b60e-4aaf-a18a-e7e45f2f0f9c",
   "metadata": {},
   "outputs": [
    {
     "name": "stdin",
     "output_type": "stream",
     "text": [
      "Enter Score from 0.0-1.0:  .9\n"
     ]
    },
    {
     "name": "stdout",
     "output_type": "stream",
     "text": [
      "Your grade is: A\n",
      "Program Complete!\n"
     ]
    }
   ],
   "source": [
    "#Write a program to prompt for a score between 0.0 and 1.0. If the score is out of range, print an error message. \n",
    "#If the score is between 0.0 and 1.0, print a grade using the following table:\n",
    "\n",
    "score = input(\"Enter Score from 0.0-1.0: \")\n",
    "\n",
    "try:    \n",
    "    x = float(score)\n",
    "\n",
    "except:\n",
    "    print(\"bad score\")\n",
    "\n",
    "if x > 1 or x < 0:\n",
    "    print('Outside of Range, Give new number!')\n",
    "elif x >= 0.9:\n",
    "    print(\"Your grade is: A\")\n",
    "elif x >= 0.8:\n",
    "    print(\"Your grade is: B\")\n",
    "elif x >= 0.7:\n",
    "    print(\"Your grade is: C\")\n",
    "elif x >= 0.6:\n",
    "    print(\"Your grade is: D\")\n",
    "elif x < 0.6:\n",
    "    print(\"Your grade is: F\")\n",
    "print('Program Complete!')\n"
   ]
  },
  {
   "cell_type": "markdown",
   "id": "936116e8-60cb-4425-8bf1-9dcd350320c9",
   "metadata": {},
   "source": [
    "### 2. FUNCTIONS"
   ]
  },
  {
   "cell_type": "code",
   "execution_count": 8,
   "id": "ed1372d6-8429-4198-bbc5-6034f750909c",
   "metadata": {},
   "outputs": [
    {
     "name": "stdout",
     "output_type": "stream",
     "text": [
      "Hello Glen\n",
      "Hello Sara\n",
      "Hello\n",
      "\n",
      "\n",
      "Hola Sara\n",
      "Bonjour Kyle\n",
      "Hello Mike\n"
     ]
    }
   ],
   "source": [
    "#Created function greet() with no argument/parameters. Returned the function = 'Hello'\n",
    "#called the function in the print statment and added names of other ppl\n",
    "\n",
    "def greet():\n",
    "    return 'Hello'\n",
    "\n",
    "print(greet(), 'Glen')\n",
    "print(greet(), 'Sara')\n",
    "print(greet())\n",
    "\n",
    "print('\\n')\n",
    "\n",
    "#pass paramater lang, if parameter == string then return string. print the function and pass the string into the parameter\n",
    "# then print the string name.\n",
    "\n",
    "def greet2(lang):\n",
    "    if lang == 'es':\n",
    "        return 'Hola'\n",
    "    elif lang == 'fr':\n",
    "        return 'Bonjour'\n",
    "    else:\n",
    "        return 'Hello'\n",
    "    \n",
    "print(greet2('es'), 'Sara')\n",
    "print(greet2('fr'), 'Kyle')\n",
    "print(greet2('en'), 'Mike')"
   ]
  },
  {
   "cell_type": "code",
   "execution_count": 9,
   "id": "4c8ec34e-83c3-4ff8-8d64-f4be22439faf",
   "metadata": {},
   "outputs": [
    {
     "name": "stdin",
     "output_type": "stream",
     "text": [
      "Input a score: .8\n"
     ]
    },
    {
     "name": "stdout",
     "output_type": "stream",
     "text": [
      "Your grade is: B\n"
     ]
    }
   ],
   "source": [
    "#Rewrite the grade program from the previous chapter using a function called computegrade that takes a score as its \n",
    "#parameter and returns a grade as a string.\n",
    "\n",
    "x = input('Input a score:')\n",
    "\n",
    "try: \n",
    "    score = float(x)\n",
    "except:\n",
    "    print('Not a number...') \n",
    "\n",
    "def compute_grade(score):\n",
    "    if score > 1 or score < 0:\n",
    "        return 'Outside of Range!'\n",
    "    elif score >= 0.9:\n",
    "        return 'Your grade is: A'\n",
    "    elif score >= 0.8:\n",
    "        return 'Your grade is: B'\n",
    "    elif score >= 0.7:\n",
    "        return 'Your grade is: C'\n",
    "    elif score >= 0.6:\n",
    "        return 'Your grade is: D'\n",
    "    elif score < 0.6:\n",
    "        return 'Your grade is: F'   \n",
    "    \n",
    "print(compute_grade(score))"
   ]
  },
  {
   "cell_type": "code",
   "execution_count": 10,
   "id": "f3178ad6-a08c-49ea-9c99-e7f122afb790",
   "metadata": {},
   "outputs": [
    {
     "name": "stdin",
     "output_type": "stream",
     "text": [
      "Enter Hours: 49\n",
      "Enter Rate: 20.2\n"
     ]
    },
    {
     "name": "stdout",
     "output_type": "stream",
     "text": [
      "Overtime Pay:\n",
      "795.6000000000001\n"
     ]
    }
   ],
   "source": [
    "# Rewrite the pay program using a function\n",
    "\n",
    "reg = h * r\n",
    "over = (h - 40.0) * (r * 0.5)\n",
    "comb = reg + over\n",
    "\n",
    "def computepay(h, r):\n",
    "    if h > 40:\n",
    "        print('Overtime Pay:')\n",
    "        return comb\n",
    "\n",
    "    else:\n",
    "        reg = h * r\n",
    "        print('Normal Pay:')\n",
    "        return reg\n",
    "        \n",
    "h = float(input(\"Enter Hours:\"))\n",
    "r = float(input(\"Enter Rate:\"))\n",
    "\n",
    "p = computepay(h,r)\n",
    "print(p)"
   ]
  },
  {
   "cell_type": "markdown",
   "id": "e525d723-71e0-45a2-ac1b-f94d2fe77edc",
   "metadata": {},
   "source": [
    "### 3. LOOPS AND ITERATIONS"
   ]
  },
  {
   "cell_type": "code",
   "execution_count": 12,
   "id": "a6cc08ab-9264-4af2-8a4d-9fb9571c3e49",
   "metadata": {},
   "outputs": [
    {
     "name": "stdin",
     "output_type": "stream",
     "text": [
      "Enter a number:  5\n",
      "Enter a number:  49\n",
      "Enter a number:  ojds\n"
     ]
    },
    {
     "name": "stdout",
     "output_type": "stream",
     "text": [
      "Invalid input\n"
     ]
    },
    {
     "name": "stdin",
     "output_type": "stream",
     "text": [
      "Enter a number:  done\n"
     ]
    },
    {
     "name": "stdout",
     "output_type": "stream",
     "text": [
      "Sum: 54.0 Number of values: 2 Avg: 27.0 Maximum is 49.0 Minimum is 5.0\n",
      "Program is all done!\n"
     ]
    }
   ],
   "source": [
    "#Get max, min, avg, sum, and count for a list of numbers input by a user\n",
    "\n",
    "\n",
    "largest = None \n",
    "smallest = None\n",
    "count = 0\n",
    "tot = 0.0\n",
    "\n",
    "\n",
    "while True:\n",
    "    num = input(\"Enter a number: \")\n",
    "    if num == \"done\":\n",
    "        break\n",
    "    try:\n",
    "        inum = float(num)\n",
    "    except:\n",
    "        print('Invalid input')\n",
    "        \n",
    "#repeat loop and keep asking for a number.\n",
    "        continue \n",
    "    \n",
    "#is largest none, true/false\n",
    "    if largest is None:\n",
    "        largest = inum\n",
    "    elif inum > largest:\n",
    "        largest = inum\n",
    "    if smallest is None:\n",
    "        smallest = inum\n",
    "    elif inum < smallest:\n",
    "        smallest = inum\n",
    "        \n",
    "    count = count + 1\n",
    "    tot = tot + inum\n",
    "    \n",
    "\n",
    "print('Sum:', tot, 'Number of values:', count, 'Avg:', tot/count, 'Maximum is', largest, 'Minimum is', smallest)\n",
    "print('Program is all done!')"
   ]
  },
  {
   "cell_type": "markdown",
   "id": "92a8bdb8-985b-4c6b-9492-8a854cbfb8a0",
   "metadata": {},
   "source": [
    "### 4. STRINGS"
   ]
  },
  {
   "cell_type": "code",
   "execution_count": 13,
   "id": "4db15ace-7397-41ff-a247-1953165b9b55",
   "metadata": {},
   "outputs": [
    {
     "name": "stdout",
     "output_type": "stream",
     "text": [
      "0.8475\n"
     ]
    }
   ],
   "source": [
    "#Write code to extract the number at the end of the line below. \n",
    "\n",
    "text = \"X-DSPAM-Confidence:    0.8475\"\n",
    "\n",
    "start = text.find('0')\n",
    "# print('Starting position: ',start)\n",
    "\n",
    "extract = float(text[start:]) #could also use 23 and 29\n",
    "print(extract)"
   ]
  },
  {
   "cell_type": "code",
   "execution_count": 14,
   "id": "2e228647-9233-424a-9380-79915489430c",
   "metadata": {},
   "outputs": [
    {
     "name": "stdout",
     "output_type": "stream",
     "text": [
      "Average spam confidence: 0.7507185185185187\n"
     ]
    }
   ],
   "source": [
    "#Write a program that prompts for a file name, then opens that file and reads through the file, looking for lines of the form:\n",
    "#X-DSPAM-Confidence:    0.8475\n",
    "#Count these lines and extract the floating point values from each of the lines and \n",
    "#compute the average of those values and produce an output as shown below. Do not use the sum() function \n",
    "#or a variable named sum in your solution.\n",
    "\n",
    "# Use the file name mbox-short.txt as the file name\n",
    "\n",
    "fname = 'mbox-short.txt'\n",
    "fh = open(fname)\n",
    "count = 0\n",
    "total = 0\n",
    "for line in fh:\n",
    "    if not line.startswith(\"X-DSPAM-Confidence:\"):\n",
    "        continue\n",
    "    line = line.rstrip() #strip \n",
    "    count = count + 1 #count total lines\n",
    "    col = line.find(':')\n",
    "    numb = float(line[col + 1:])\n",
    "    total = total + numb\n",
    "    #print(line)\n",
    "    #print(numb)\n",
    "#print('Sum:', total)\n",
    "#print('Total num of lines: ', count)\n",
    "print('Average spam confidence:', total/count)"
   ]
  },
  {
   "cell_type": "markdown",
   "id": "8875d4f2-1471-413b-92f3-377b1def47fb",
   "metadata": {},
   "source": [
    "### 5. LISTS"
   ]
  },
  {
   "cell_type": "code",
   "execution_count": 15,
   "id": "a6f1274a-388e-491a-a301-c643a437bd98",
   "metadata": {},
   "outputs": [
    {
     "name": "stdout",
     "output_type": "stream",
     "text": [
      "['Arise', 'But', 'It', 'Juliet', 'Who', 'already', 'and', 'breaks', 'east', 'envious', 'fair', 'grief', 'is', 'kill', 'light', 'moon', 'pale', 'sick', 'soft', 'sun', 'the', 'through', 'what', 'window', 'with', 'yonder']\n"
     ]
    }
   ],
   "source": [
    "#Open the file romeo.txt and read it line by line. For each line, split the line into a list of words using the split() method. \n",
    "#The program should build a list of words. For each word on each line check to see if the word is already in the list \n",
    "#and if not append it to the list. \n",
    "#When the program completes, sort and print the resulting words in python sort() order as shown in the desired output.\n",
    "\n",
    "fname = 'romeo.txt'\n",
    "fh = open(fname)\n",
    "lst = list()\n",
    "for line in fh:\n",
    "    lines = line.rstrip()\n",
    "    words = lines.split()\n",
    "    \n",
    "    for word in words:\n",
    "        if word not in lst:\n",
    "            lst.append(word)\n",
    "            lst.sort()\n",
    "print(lst)"
   ]
  },
  {
   "cell_type": "code",
   "execution_count": 16,
   "id": "a526c1cb-296a-4f7a-a2d5-be67c3de38c2",
   "metadata": {},
   "outputs": [
    {
     "name": "stdout",
     "output_type": "stream",
     "text": [
      "['antranig', 'cwen', 'david.horwitz', 'gopal.ramasammycook', 'gsilver', 'louis', 'ray', 'rjlowe', 'stephen.marquard', 'wagnermr', 'zqian']\n",
      "There are 11 names in this list!\n",
      "There were 27 lines in the file with From as the first word\n"
     ]
    }
   ],
   "source": [
    "#Open the file mbox-short.txt and read it line by line. When you find a line that starts with 'From ' like the following line:\n",
    "#From stephen.marquard@uct.ac.za Sat Jan  5 09:14:16 2008\n",
    "#You will parse the From line using split() and print out the second word in the line \n",
    "#(i.e. the entire address of the person who sent the message). Then print out a count at the end.\n",
    "#Hint: make sure not to include the lines that start with 'From:'. \n",
    "#Also look at the last line of the sample output to see how to print the count.\n",
    "\n",
    "fh = open('mbox-short.txt') \n",
    "lst = list()\n",
    "count = 0\n",
    "for line in fh:\n",
    "    line = line.rstrip() #strip \n",
    "    if not line.startswith('From '):\n",
    "        continue\n",
    "    word = line.split() #split once into words in a list\n",
    "    email = word[1] #pull out the email addresses as strings using the index\n",
    "    #print(email)\n",
    "    name = email.split('@') #split at the @ creating variable first and last name\n",
    "    #print(name)\n",
    "    str_name = name[0]\n",
    "    #print(str_name)\n",
    "    if str_name not in lst:\n",
    "        lst.append(str_name)\n",
    "        lst.sort()\n",
    "    count = count + 1\n",
    "    \n",
    "print(lst)\n",
    "\n",
    "print('There are', len(lst), 'names in this list!')\n",
    "   \n",
    "print(\"There were\", count, \"lines in the file with From as the first word\")\n"
   ]
  },
  {
   "cell_type": "markdown",
   "id": "1de6e744-80b6-4832-9df3-83c01435537a",
   "metadata": {},
   "source": [
    "### 6. DICTIONARIES"
   ]
  },
  {
   "cell_type": "code",
   "execution_count": 17,
   "id": "f2728318-d717-4116-a249-094ae09bffef",
   "metadata": {},
   "outputs": [
    {
     "name": "stdout",
     "output_type": "stream",
     "text": [
      "Email most seen: cwen@iupui.edu\n",
      "Number of times: 5\n"
     ]
    }
   ],
   "source": [
    "#Write a program to read through the mbox-short.txt and figure out who has sent the greatest number of mail messages. \n",
    "#The program looks for 'From ' lines and takes the second word of those lines as the person who sent the mail. \n",
    "#The program creates a Python dictionary that maps the sender's mail address to a count of the number of times \n",
    "#they appear in the file. After the dictionary is produced, the program reads through the dictionary \n",
    "#using a maximum loop to find the most prolific committer.\n",
    "\n",
    "counts = dict()\n",
    "bigword = None\n",
    "bigcount = None\n",
    "\n",
    "handle = open('mbox-short.txt')\n",
    "\n",
    "for line in handle:\n",
    "    line = line.rstrip() #strip \n",
    "    #print(line)\n",
    "    \n",
    "    if not line.startswith('From '):\n",
    "        continue\n",
    "        \n",
    "    lst = line.split() #split once into words\n",
    "    #print(lst)\n",
    "    \n",
    "    email = lst[1]\n",
    "    #print(email)\n",
    "    counts[email] = counts.get(email, 0) + 1  \n",
    "\n",
    "# print(counts)\n",
    "\n",
    "for key, value in counts.items():\n",
    "    if bigcount is None or value > bigcount:\n",
    "        bigword = key\n",
    "        bigcount = value\n",
    "print('Email most seen:', bigword)\n",
    "print('Number of times:', bigcount)"
   ]
  },
  {
   "cell_type": "markdown",
   "id": "2b28bdee-e605-4b9d-8067-bb5150918fce",
   "metadata": {},
   "source": [
    "### 7. TUPLES"
   ]
  },
  {
   "cell_type": "code",
   "execution_count": 18,
   "id": "93cdb66f-7060-49eb-8f34-7d835e90d788",
   "metadata": {},
   "outputs": [
    {
     "name": "stdout",
     "output_type": "stream",
     "text": [
      "Top 5 letters are:  [(5436, 'e'), (5223, 'a'), (4494, 'i'), (4174, 'o'), (4064, 'r')]\n"
     ]
    }
   ],
   "source": [
    "# Write a program that reads a file and prints the letters\n",
    "# in decreasing order of frequency. Your program should convert all the\n",
    "# input to lower case and only count the letters a-z. Your program should\n",
    "# not count spaces, digits, punctuation, or anything other than the letters a-z.\n",
    "\n",
    "\n",
    "counts = dict()\n",
    "handle = open('mbox-short.txt')\n",
    "\n",
    "#strip the lines\n",
    "for line in handle:\n",
    "    line = line.strip() #strip \n",
    "    # print(line)\n",
    "    \n",
    "#lower case all\n",
    "    line = line.lower()\n",
    "\n",
    "#keep only alpha letters    \n",
    "    line = ''.join(ch for ch in line if ch.isalpha())\n",
    "    # print(line)\n",
    "    \n",
    "    for word in line:\n",
    "        for letter in word:\n",
    "            counts[letter] = counts.get(letter, 0) + 1 \n",
    "\n",
    "#print and order by key\n",
    "# for k, v in sorted(counts.items()):\n",
    "    # print(k,v)\n",
    "\n",
    "# create a list from dictionary to order by VALUE\n",
    "tmp = list()\n",
    "for k, v in counts.items():\n",
    "    tmp.append((v,k))\n",
    "\n",
    "tmp = sorted(tmp, reverse = True)  \n",
    "print('Top 5 letters are: ', tmp[:5])"
   ]
  },
  {
   "cell_type": "markdown",
   "id": "6aa56f2c-dcf8-4da1-b74f-634138aac00b",
   "metadata": {},
   "source": [
    "### 8. REG_EXPRESSIONS"
   ]
  },
  {
   "cell_type": "code",
   "execution_count": 19,
   "id": "846a1e8f-f22f-4a71-b2ba-3f709a0641b0",
   "metadata": {},
   "outputs": [
    {
     "name": "stdout",
     "output_type": "stream",
     "text": [
      "SUM: 470196\n"
     ]
    }
   ],
   "source": [
    "#The basic outline of this problem is to read the file, look for integers using the re.findall(), looking for a \n",
    "#regular expression of '[0-9]+' and then converting the extracted strings to integers and summing up the integers.\n",
    "\n",
    "import re\n",
    "\n",
    "handle = open('RegExp.txt')\n",
    "\n",
    "lst = list()\n",
    "\n",
    "#strip it\n",
    "for line in handle:\n",
    "    line = line.strip()\n",
    "    # print(line)\n",
    "\n",
    "#find the numbers\n",
    "    numbers = re.findall('[0-9]+', line)\n",
    "    if len(numbers) == 0 : continue\n",
    "    # print(numbers)\n",
    "\n",
    "#for variable in the list of numbers to the empty list create an int from the string\n",
    "    for number in numbers:\n",
    "        lst.append(int(number))\n",
    "\n",
    "# print(lst)\n",
    "print('SUM:', sum(lst))\n"
   ]
  },
  {
   "cell_type": "markdown",
   "id": "c3e8b7fc-9cca-43ea-927e-d642dd358e8d",
   "metadata": {},
   "source": [
    "### 9. NETWORK CONNECTIONS"
   ]
  },
  {
   "cell_type": "code",
   "execution_count": 20,
   "id": "4a512e79-6bd6-4c2c-ac95-23cba5f46688",
   "metadata": {},
   "outputs": [
    {
     "name": "stdout",
     "output_type": "stream",
     "text": [
      "HTTP/1.1 200 OK\n",
      "Date: Wed, 19 Oct 2022 22:57:30 GMT\n",
      "Server: Apache/2.4.18 (Ubuntu)\n",
      "Last-Modified: Sat, 13 May 2017 11:22:22 GMT\n",
      "ETag: \"1d3-54f6609240717\"\n",
      "Accept-Ranges: bytes\n",
      "Content-Length: 467\n",
      "Cache-Control: max-age=0, no-cache, no-store, must-revalidate\n",
      "Pragma: no-cache\n",
      "Expires: Wed, 11 Jan 1984 05:00:00 GMT\n",
      "Connection: close\n",
      "Content-Type: text/plain\n",
      "\n",
      "Why should you learn to write programs?\n",
      "\n",
      "Writing programs (or programming) is a very creative \n",
      "and rewarding activity.  You can write programs for \n",
      "many reasons, ranging from making your living to solving\n",
      "a difficult data analysis problem to having fun to helping\n",
      "someone else solve a problem.  This book assumes that \n",
      "everyone needs to know how to program, and that once \n",
      "you know how to program you will figure out what you want \n",
      "to do with your newfound skills.  \n",
      "\n"
     ]
    }
   ],
   "source": [
    "#Connecting to a socket and webpage 'data.pr4e.org'\n",
    "\n",
    "import socket\n",
    "import time\n",
    "\n",
    "HOST = 'data.pr4e.org'\n",
    "PORT = 80\n",
    "mysock = socket.socket(socket.AF_INET, socket.SOCK_STREAM)\n",
    "\n",
    "mysock.connect((HOST, PORT))\n",
    "cmd = 'GET http://data.pr4e.org/intro-short.txt HTTP/1.0\\r\\n\\r\\n'.encode()\n",
    "\n",
    "mysock.send(cmd)\n",
    "\n",
    "while True:\n",
    "    data = mysock.recv(5120)\n",
    "    if len(data) < 1: \n",
    "        break\n",
    "    print(data.decode())\n",
    "mysock.close()"
   ]
  },
  {
   "cell_type": "code",
   "execution_count": 21,
   "id": "e999da88-9c43-47a8-9e43-cf02b6172cf3",
   "metadata": {},
   "outputs": [
    {
     "name": "stdout",
     "output_type": "stream",
     "text": [
      "But soft what light through yonder window breaks\n",
      "It is the east and Juliet is the sun\n",
      "Arise fair sun and kill the envious moon\n",
      "Who is already sick and pale with grief\n"
     ]
    }
   ],
   "source": [
    "# Read website 'http://data.pr4e.org/romeo.txt' line by line using for loop\n",
    "\n",
    "import urllib.request, urllib.parse, urllib.error\n",
    "\n",
    "fhand = urllib.request.urlopen('http://data.pr4e.org/romeo.txt') #skips headers\n",
    "for line in fhand:\n",
    "    print(line.decode().strip())"
   ]
  },
  {
   "cell_type": "code",
   "execution_count": 22,
   "id": "154eef99-79ad-4e9a-a363-aa8152bfef37",
   "metadata": {},
   "outputs": [
    {
     "name": "stdout",
     "output_type": "stream",
     "text": [
      "{'But': 1, 'soft': 1, 'what': 1, 'light': 1, 'through': 1, 'yonder': 1, 'window': 1, 'breaks': 1, 'It': 1, 'is': 3, 'the': 3, 'east': 1, 'and': 3, 'Juliet': 1, 'sun': 2, 'Arise': 1, 'fair': 1, 'kill': 1, 'envious': 1, 'moon': 1, 'Who': 1, 'already': 1, 'sick': 1, 'pale': 1, 'with': 1, 'grief': 1}\n"
     ]
    }
   ],
   "source": [
    "#create a dictionary and count the number of words there are in the website 'http://data.pr4e.org/romeo.txt'\n",
    "\n",
    "#create empty dictionary\n",
    "counts = dict()\n",
    "\n",
    "#read the website\n",
    "fhand = urllib.request.urlopen('http://data.pr4e.org/romeo.txt') \n",
    "for line in fhand:\n",
    "    words = line.decode().split()\n",
    "    for word in words:\n",
    "        counts[word] = counts.get(word, 0) + 1\n",
    "print(counts)"
   ]
  },
  {
   "cell_type": "code",
   "execution_count": 23,
   "id": "8d9e5147-11e5-4749-a41c-b867ae07c3e2",
   "metadata": {},
   "outputs": [
    {
     "name": "stdout",
     "output_type": "stream",
     "text": [
      "TAG: <a href=\"https://www.learnerprivacy.org/\">\n",
      "<img align=\"center\" alt=\"Photo Credit: Brent Severance\" src=\"Chuck_Square_B&amp;W.jpg\" style=\"border: white 2px solid;\" width=\"160\"/>\n",
      "</a>\n",
      "URL: https://www.learnerprivacy.org/\n",
      "Contents: \n",
      "\n",
      "Attrs: {'href': 'https://www.learnerprivacy.org/'} \n",
      "\n",
      "TAG: <a href=\"https://www.si.umich.edu/\" target=\"_blank\">School of Information</a>\n",
      "URL: https://www.si.umich.edu/\n",
      "Contents: School of Information\n",
      "Attrs: {'href': 'https://www.si.umich.edu/', 'target': '_blank'} \n",
      "\n",
      "TAG: <a href=\"https://www.ratemyprofessors.com/ShowRatings.jsp?tid=1159280\" target=\"_blank\">\n",
      "<img alt=\"Rate This Professor\" src=\"/images/rate-my-professor.jpg\" width=\"140\"/></a>\n",
      "URL: https://www.ratemyprofessors.com/ShowRatings.jsp?tid=1159280\n",
      "Contents: \n",
      "\n",
      "Attrs: {'href': 'https://www.ratemyprofessors.com/ShowRatings.jsp?tid=1159280', 'target': '_blank'} \n",
      "\n",
      "TAG: <a href=\"https://www.learnerprivacy.org\">Podcast</a>\n",
      "URL: https://www.learnerprivacy.org\n",
      "Contents: Podcast\n",
      "Attrs: {'href': 'https://www.learnerprivacy.org'} \n",
      "\n",
      "TAG: <a href=\"https://www.dr-chuck.com/csev-blog/\">Blog</a>\n",
      "URL: https://www.dr-chuck.com/csev-blog/\n",
      "Contents: Blog\n",
      "Attrs: {'href': 'https://www.dr-chuck.com/csev-blog/'} \n",
      "\n",
      "TAG: <a href=\"https://www.twitter.com/drchuck/\" target=\"_blank\">@drchuck Twitter</a>\n",
      "URL: https://www.twitter.com/drchuck/\n",
      "Contents: @drchuck Twitter\n",
      "Attrs: {'href': 'https://www.twitter.com/drchuck/', 'target': '_blank'} \n",
      "\n",
      "TAG: <a href=\"https://www.dr-chuck.com/dr-chuck/resume/speaking.htm\" target=\"_blank\">Keynote Speaker</a>\n",
      "URL: https://www.dr-chuck.com/dr-chuck/resume/speaking.htm\n",
      "Contents: Keynote Speaker\n",
      "Attrs: {'href': 'https://www.dr-chuck.com/dr-chuck/resume/speaking.htm', 'target': '_blank'} \n",
      "\n",
      "TAG: <a href=\"https://www.slideshare.net/csev\" target=\"_blank\">Slideshare</a>\n",
      "URL: https://www.slideshare.net/csev\n",
      "Contents: Slideshare\n",
      "Attrs: {'href': 'https://www.slideshare.net/csev', 'target': '_blank'} \n",
      "\n",
      "TAG: <a href=\"/dr-chuck/resume/index.htm\" target=\"_blank\">Resume and Bio</a>\n",
      "URL: /dr-chuck/resume/index.htm\n",
      "Contents: Resume and Bio\n",
      "Attrs: {'href': '/dr-chuck/resume/index.htm', 'target': '_blank'} \n",
      "\n",
      "TAG: <a href=\"https://amzn.to/1K5Q81K\" target=\"_blank\">Amazon Author Page</a>\n",
      "URL: https://amzn.to/1K5Q81K\n",
      "Contents: Amazon Author Page\n",
      "Attrs: {'target': '_blank', 'href': 'https://amzn.to/1K5Q81K'} \n",
      "\n",
      "TAG: <a href=\"https://www.coursera.org/instructor/drchuck\" target=\"_blank\">My Coursera Page</a>\n",
      "URL: https://www.coursera.org/instructor/drchuck\n",
      "Contents: My Coursera Page\n",
      "Attrs: {'target': '_blank', 'href': 'https://www.coursera.org/instructor/drchuck'} \n",
      "\n",
      "TAG: <a href=\"http://afs.dr-chuck.com/papers/\" target=\"_blank\">Chuck's Papers</a>\n",
      "URL: http://afs.dr-chuck.com/papers/\n",
      "Contents: Chuck's Papers\n",
      "Attrs: {'href': 'http://afs.dr-chuck.com/papers/', 'target': '_blank'} \n",
      "\n",
      "TAG: <a href=\"https://itunes.apple.com/us/podcast/computing-conversations/id731495760\" target=\"_blank\">IEEE Audio Podcast</a>\n",
      "URL: https://itunes.apple.com/us/podcast/computing-conversations/id731495760\n",
      "Contents: IEEE Audio Podcast\n",
      "Attrs: {'href': 'https://itunes.apple.com/us/podcast/computing-conversations/id731495760', 'target': '_blank'} \n",
      "\n",
      "TAG: <a href=\"https://www.youtube.com/playlist?list=PLHJB2bhmgB7dFuY7HmrXLj5BmHGKTD-3R\" target=\"_blank\">IEEE Video Interviews</a>\n",
      "URL: https://www.youtube.com/playlist?list=PLHJB2bhmgB7dFuY7HmrXLj5BmHGKTD-3R\n",
      "Contents: IEEE Video Interviews\n",
      "Attrs: {'href': 'https://www.youtube.com/playlist?list=PLHJB2bhmgB7dFuY7HmrXLj5BmHGKTD-3R', 'target': '_blank'} \n",
      "\n",
      "TAG: <a href=\"https://developers.imsglobal.org/\" target=\"_blank\">IMS LTI</a>\n",
      "URL: https://developers.imsglobal.org/\n",
      "Contents: IMS LTI\n",
      "Attrs: {'href': 'https://developers.imsglobal.org/', 'target': '_blank'} \n",
      "\n",
      "TAG: <a href=\"https://www.youtube.com/user/csev\" target=\"_blank\">YouTube Channel </a>\n",
      "URL: https://www.youtube.com/user/csev\n",
      "Contents: YouTube Channel \n",
      "Attrs: {'href': 'https://www.youtube.com/user/csev', 'target': '_blank'} \n",
      "\n",
      "TAG: <a href=\"https://vimeo.com/drchuck/videos\" target=\"_blank\">Video on Vimeo</a>\n",
      "URL: https://vimeo.com/drchuck/videos\n",
      "Contents: Video on Vimeo\n",
      "Attrs: {'href': 'https://vimeo.com/drchuck/videos', 'target': '_blank'} \n",
      "\n",
      "TAG: <a href=\"https://backpack.openbadges.org/share/4f76699ddb399d162a00b89a452074b3/\" target=\"_blank\">My Open Badges</a>\n",
      "URL: https://backpack.openbadges.org/share/4f76699ddb399d162a00b89a452074b3/\n",
      "Contents: My Open Badges\n",
      "Attrs: {'href': 'https://backpack.openbadges.org/share/4f76699ddb399d162a00b89a452074b3/', 'target': '_blank'} \n",
      "\n",
      "TAG: <a href=\"https://www.linkedin.com/in/charlesseverance/\" target=\"_blank\">\n",
      "<img alt=\"View Chuck Severance's profile on LinkedIn\" border=\"0\" height=\"33\" src=\"https://www.linkedin.com/img/webpromo/btn_viewmy_120x33.png\" width=\"120\"/>\n",
      "</a>\n",
      "URL: https://www.linkedin.com/in/charlesseverance/\n",
      "Contents: \n",
      "\n",
      "Attrs: {'href': 'https://www.linkedin.com/in/charlesseverance/', 'target': '_blank'} \n",
      "\n",
      "TAG: <a href=\"https://www.researchgate.net/profile/Charles_Severance/\" target=\"_blank\" title=\"Charles R. Severance\"><img alt=\"Charles R. Severance\" src=\"https://www.researchgate.net/images/public/profile_share_badge.png\"/></a>\n",
      "URL: https://www.researchgate.net/profile/Charles_Severance/\n",
      "Contents: <img alt=\"Charles R. Severance\" src=\"https://www.researchgate.net/images/public/profile_share_badge.png\"/>\n",
      "Attrs: {'title': 'Charles R. Severance', 'href': 'https://www.researchgate.net/profile/Charles_Severance/', 'target': '_blank'} \n",
      "\n",
      "TAG: <a href=\"https://www.learnerprivacy.org/\" target=\"_blank\">My LearnerPrivacy.org podcast</a>\n",
      "URL: https://www.learnerprivacy.org/\n",
      "Contents: My LearnerPrivacy.org podcast\n",
      "Attrs: {'href': 'https://www.learnerprivacy.org/', 'target': '_blank'} \n",
      "\n",
      "TAG: <a href=\"https://www.py4e.com/\" target=\"_blank\">Python for Everybody</a>\n",
      "URL: https://www.py4e.com/\n",
      "Contents: Python for Everybody\n",
      "Attrs: {'href': 'https://www.py4e.com/', 'target': '_blank'} \n",
      "\n",
      "TAG: <a href=\"https://www.dj4e.com/\" target=\"_blank\">Django for Everybody</a>\n",
      "URL: https://www.dj4e.com/\n",
      "Contents: Django for Everybody\n",
      "Attrs: {'href': 'https://www.dj4e.com/', 'target': '_blank'} \n",
      "\n",
      "TAG: <a href=\"https://www.wa4e.com/\" target=\"_blank\">Web Applications for Everybody</a>\n",
      "URL: https://www.wa4e.com/\n",
      "Contents: Web Applications for Everybody\n",
      "Attrs: {'href': 'https://www.wa4e.com/', 'target': '_blank'} \n",
      "\n",
      "TAG: <a href=\"https://www.coursera.org/course/insidetheinternet\" target=\"_blank\">Internet History, Technnology and Security</a>\n",
      "URL: https://www.coursera.org/course/insidetheinternet\n",
      "Contents: Internet History, Technnology and Security\n",
      "Attrs: {'href': 'https://www.coursera.org/course/insidetheinternet', 'target': '_blank'} \n",
      "\n",
      "TAG: <a href=\"https://www.sakaiproject.org/\" target=\"_blank\">The Sakai Collaboration\n",
      "and Learning Environment</a>\n",
      "URL: https://www.sakaiproject.org/\n",
      "Contents: The Sakai Collaboration\n",
      "and Learning Environment\n",
      "Attrs: {'href': 'https://www.sakaiproject.org/', 'target': '_blank'} \n",
      "\n",
      "TAG: <a href=\"https://www.tsugi.org/\" target=\"_blank\">Tsugi: A framework for learning tools</a>\n",
      "URL: https://www.tsugi.org/\n",
      "Contents: Tsugi: A framework for learning tools\n",
      "Attrs: {'href': 'https://www.tsugi.org/', 'target': '_blank'} \n",
      "\n",
      "TAG: <a href=\"https://developers.imsglobal.org/\" target=\"_blank\">IMS Learning Tools\n",
      "Interoperability</a>\n",
      "URL: https://developers.imsglobal.org/\n",
      "Contents: IMS Learning Tools\n",
      "Interoperability\n",
      "Attrs: {'href': 'https://developers.imsglobal.org/', 'target': '_blank'} \n",
      "\n",
      "TAG: <a href=\"http://www.py4e.com/book\" target=\"_blank\">Python For Everybody: Exploring Data in Python 3</a>\n",
      "URL: http://www.py4e.com/book\n",
      "Contents: Python For Everybody: Exploring Data in Python 3\n",
      "Attrs: {'href': 'http://www.py4e.com/book', 'target': '_blank'} \n",
      "\n",
      "TAG: <a href=\"/sakai-book\">Sakai: Building an Open Source Community</a>\n",
      "URL: /sakai-book\n",
      "Contents: Sakai: Building an Open Source Community\n",
      "Attrs: {'href': '/sakai-book'} \n",
      "\n",
      "TAG: <a href=\"http://www.amazon.com/gp/product/1624311393/ref=as_li_ss_tl?ie=UTF8&amp;camp=1789&amp;creative=390957&amp;creativeASIN=1624311393&amp;linkCode=as2&amp;tag=drchu02-20\" target=\"_blank\">Raspberry Pi (21st Century Skills Innovation Library)</a>\n",
      "URL: http://www.amazon.com/gp/product/1624311393/ref=as_li_ss_tl?ie=UTF8&camp=1789&creative=390957&creativeASIN=1624311393&linkCode=as2&tag=drchu02-20\n",
      "Contents: Raspberry Pi (21st Century Skills Innovation Library)\n",
      "Attrs: {'href': 'http://www.amazon.com/gp/product/1624311393/ref=as_li_ss_tl?ie=UTF8&camp=1789&creative=390957&creativeASIN=1624311393&linkCode=as2&tag=drchu02-20', 'target': '_blank'} \n",
      "\n",
      "TAG: <a href=\"http://www.amazon.com/gp/product/059680069X/ref=as_li_ss_tl?ie=UTF8&amp;camp=1789&amp;creative=390957&amp;creativeASIN=059680069X&amp;linkCode=as2&amp;tag=drchu02-20\" target=\"_blank\">Using Google App Engine</a>\n",
      "URL: http://www.amazon.com/gp/product/059680069X/ref=as_li_ss_tl?ie=UTF8&camp=1789&creative=390957&creativeASIN=059680069X&linkCode=as2&tag=drchu02-20\n",
      "Contents: Using Google App Engine\n",
      "Attrs: {'href': 'http://www.amazon.com/gp/product/059680069X/ref=as_li_ss_tl?ie=UTF8&camp=1789&creative=390957&creativeASIN=059680069X&linkCode=as2&tag=drchu02-20', 'target': '_blank'} \n",
      "\n",
      "TAG: <a href=\"http://www.amazon.com/Performance-Computing-Architectures-Optimization-Benchmarks/dp/156592312X/\" target=\"_blank\">High Performance Computing</a>\n",
      "URL: http://www.amazon.com/Performance-Computing-Architectures-Optimization-Benchmarks/dp/156592312X/\n",
      "Contents: High Performance Computing\n",
      "Attrs: {'href': 'http://www.amazon.com/Performance-Computing-Architectures-Optimization-Benchmarks/dp/156592312X/', 'target': '_blank'} \n",
      "\n",
      "TAG: <a href=\"http://oreilly.com/catalog/9781565923126/\" target=\"_blank\">O'Reilly 1998</a>\n",
      "URL: http://oreilly.com/catalog/9781565923126/\n",
      "Contents: O'Reilly 1998\n",
      "Attrs: {'href': 'http://oreilly.com/catalog/9781565923126/', 'target': '_blank'} \n",
      "\n",
      "TAG: <a href=\"http://cnx.org/content/col11136/latest/\" target=\"_blank\">Connexions 2010</a>\n",
      "URL: http://cnx.org/content/col11136/latest/\n",
      "Contents: Connexions 2010\n",
      "Attrs: {'href': 'http://cnx.org/content/col11136/latest/', 'target': '_blank'} \n",
      "\n",
      "TAG: <a href=\"http://www.youtube.com/playlist?list=PLHJB2bhmgB7dFuY7HmrXLj5BmHGKTD-3R\" target=\"_blank\">\n",
      "IEEE Computer - Computing Conversations Interviews</a>\n",
      "URL: http://www.youtube.com/playlist?list=PLHJB2bhmgB7dFuY7HmrXLj5BmHGKTD-3R\n",
      "Contents: \n",
      "IEEE Computer - Computing Conversations Interviews\n",
      "Attrs: {'href': 'http://www.youtube.com/playlist?list=PLHJB2bhmgB7dFuY7HmrXLj5BmHGKTD-3R', 'target': '_blank'} \n",
      "\n",
      "TAG: <a href=\"https://www.vimeo.com/17207620\" target=\"_blank\">\n",
      "Dr. Chuck sings the blues </a>\n",
      "URL: https://www.vimeo.com/17207620\n",
      "Contents: \n",
      "Dr. Chuck sings the blues \n",
      "Attrs: {'href': 'https://www.vimeo.com/17207620', 'target': '_blank'} \n",
      "\n",
      "TAG: <a href=\"https://www.youtube.com/watch?v=BVKpW02hsrU\" target=\"_blank\">\n",
      "Dr. Chuck goes motocross racing</a>\n",
      "URL: https://www.youtube.com/watch?v=BVKpW02hsrU\n",
      "Contents: \n",
      "Dr. Chuck goes motocross racing\n",
      "Attrs: {'href': 'https://www.youtube.com/watch?v=BVKpW02hsrU', 'target': '_blank'} \n",
      "\n",
      "TAG: <a href=\"https://www.youtube.com/watch?v=sa2WsgCvn7c\" target=\"_blank\">\n",
      "A Film About Brent and His ATV\n",
      "</a>\n",
      "URL: https://www.youtube.com/watch?v=sa2WsgCvn7c\n",
      "Contents: \n",
      "A Film About Brent and His ATV\n",
      "\n",
      "Attrs: {'href': 'https://www.youtube.com/watch?v=sa2WsgCvn7c', 'target': '_blank'} \n",
      "\n",
      "TAG: <a href=\"https://www.vimeo.com/17213019\" target=\"_blank\">\n",
      "Audition Tape</a>\n",
      "URL: https://www.vimeo.com/17213019\n",
      "Contents: \n",
      "Audition Tape\n",
      "Attrs: {'href': 'https://www.vimeo.com/17213019', 'target': '_blank'} \n",
      "\n",
      "TAG: <a href=\"https://www.youtube.com/watch?v=FJ078sO35M0\" target=\"_blank\">\n",
      "Dr. Chuck goes stock car racing</a>\n",
      "URL: https://www.youtube.com/watch?v=FJ078sO35M0\n",
      "Contents: \n",
      "Dr. Chuck goes stock car racing\n",
      "Attrs: {'href': 'https://www.youtube.com/watch?v=FJ078sO35M0', 'target': '_blank'} \n",
      "\n",
      "TAG: <a href=\"http://afs.dr-chuck.com/citoolkit\" target=\"_blank\">\n",
      "The Community Information Toolkit</a>\n",
      "URL: http://afs.dr-chuck.com/citoolkit\n",
      "Contents: \n",
      "The Community Information Toolkit\n",
      "Attrs: {'href': 'http://afs.dr-chuck.com/citoolkit', 'target': '_blank'} \n",
      "\n",
      "TAG: <a class=\"twitter-timeline\" data-widget-id=\"282172185219567616\" href=\"https://twitter.com/drchuck\">Tweets by @drchuck</a>\n",
      "URL: https://twitter.com/drchuck\n",
      "Contents: Tweets by @drchuck\n",
      "Attrs: {'class': ['twitter-timeline'], 'href': 'https://twitter.com/drchuck', 'data-widget-id': '282172185219567616'} \n",
      "\n"
     ]
    }
   ],
   "source": [
    "#Use bs4 to scrape links and associated data.\n",
    "\n",
    "from urllib.request import urlopen\n",
    "from bs4 import BeautifulSoup\n",
    "import ssl\n",
    "\n",
    "# Ignore SSL certificate errors\n",
    "ctx = ssl.create_default_context()\n",
    "ctx.check_hostname = False\n",
    "ctx.verify_mode = ssl.CERT_NONE\n",
    "\n",
    "url = 'https://www.dr-chuck.com/'\n",
    "html = urlopen(url, context=ctx).read()\n",
    "soup = BeautifulSoup(html, \"html.parser\")\n",
    "\n",
    "# Retrieve all of the anchor tags\n",
    "tags = soup('a')\n",
    "for tag in tags:\n",
    "    # Look at the parts of a tag\n",
    "    print('TAG:', tag)\n",
    "    print('URL:', tag.get('href', None))\n",
    "    print('Contents:', tag.contents[0])\n",
    "    print('Attrs:', tag.attrs, '\\n')"
   ]
  },
  {
   "cell_type": "code",
   "execution_count": 24,
   "id": "668ae21b-ad06-4b3f-bf18-48c83e57e763",
   "metadata": {},
   "outputs": [
    {
     "name": "stdout",
     "output_type": "stream",
     "text": [
      "Sum of numbers: 2381\n"
     ]
    }
   ],
   "source": [
    "# Scraping Numbers from HTML using BeautifulSoup.\n",
    "# You are to find all the <span> tags in the file and pull out the numbers from the tag and sum the numbers.\n",
    "\n",
    "from urllib.request import urlopen\n",
    "from bs4 import BeautifulSoup\n",
    "import ssl\n",
    "import re\n",
    "\n",
    "lst = list()\n",
    "\n",
    "# Ignore SSL certificate errors\n",
    "ctx = ssl.create_default_context()\n",
    "ctx.check_hostname = False\n",
    "ctx.verify_mode = ssl.CERT_NONE\n",
    "\n",
    "url = 'http://py4e-data.dr-chuck.net/comments_1667013.html'\n",
    "html = urllib.request.urlopen(url, context=ctx).read()\n",
    "soup = BeautifulSoup(html, \"html.parser\")\n",
    "\n",
    "# Retrieve all of the span tags\n",
    "tags = soup('span')\n",
    "\n",
    "for tag in tags:\n",
    "    \n",
    "# Convert tags from bs4 to str.\n",
    "    string = str(tag)\n",
    "\n",
    "#look for numbers using re\n",
    "    numbers = re.findall('[0-9]+', string)\n",
    "    \n",
    "\n",
    "# append each string to list and convert to int\n",
    "    for number in numbers:\n",
    "        lst.append(int(number))\n",
    "        \n",
    "print('Sum of numbers:',sum(lst))"
   ]
  },
  {
   "cell_type": "code",
   "execution_count": 25,
   "id": "d6611c47-1ff2-4e13-b080-a00e93c956a8",
   "metadata": {},
   "outputs": [
    {
     "name": "stdout",
     "output_type": "stream",
     "text": [
      "0\n"
     ]
    },
    {
     "name": "stdin",
     "output_type": "stream",
     "text": [
      "enter link: http://py4e-data.dr-chuck.net/known_by_Harish.html\n"
     ]
    },
    {
     "name": "stdout",
     "output_type": "stream",
     "text": [
      "18th href: http://py4e-data.dr-chuck.net/known_by_Kelam.html\n",
      "1\n"
     ]
    },
    {
     "name": "stdin",
     "output_type": "stream",
     "text": [
      "enter link: http://py4e-data.dr-chuck.net/known_by_Kelam.html\n"
     ]
    },
    {
     "name": "stdout",
     "output_type": "stream",
     "text": [
      "18th href: http://py4e-data.dr-chuck.net/known_by_Latoya.html\n",
      "2\n"
     ]
    },
    {
     "name": "stdin",
     "output_type": "stream",
     "text": [
      "enter link: http://py4e-data.dr-chuck.net/known_by_Latoya.html\n"
     ]
    },
    {
     "name": "stdout",
     "output_type": "stream",
     "text": [
      "18th href: http://py4e-data.dr-chuck.net/known_by_Tanzina.html\n",
      "3\n"
     ]
    },
    {
     "name": "stdin",
     "output_type": "stream",
     "text": [
      "enter link: http://py4e-data.dr-chuck.net/known_by_Tanzina.html\n"
     ]
    },
    {
     "name": "stdout",
     "output_type": "stream",
     "text": [
      "18th href: http://py4e-data.dr-chuck.net/known_by_Nabeeha.html\n",
      "4\n"
     ]
    },
    {
     "name": "stdin",
     "output_type": "stream",
     "text": [
      "enter link: http://py4e-data.dr-chuck.net/known_by_Nabeeha.html\n"
     ]
    },
    {
     "name": "stdout",
     "output_type": "stream",
     "text": [
      "18th href: http://py4e-data.dr-chuck.net/known_by_Cator.html\n",
      "5\n"
     ]
    },
    {
     "name": "stdin",
     "output_type": "stream",
     "text": [
      "enter link: http://py4e-data.dr-chuck.net/known_by_Cator.html\n"
     ]
    },
    {
     "name": "stdout",
     "output_type": "stream",
     "text": [
      "18th href: http://py4e-data.dr-chuck.net/known_by_Kelsiee.html\n",
      "6\n"
     ]
    },
    {
     "name": "stdin",
     "output_type": "stream",
     "text": [
      "enter link: http://py4e-data.dr-chuck.net/known_by_Kelsiee.html\n"
     ]
    },
    {
     "name": "stdout",
     "output_type": "stream",
     "text": [
      "18th href: http://py4e-data.dr-chuck.net/known_by_Jeannie.html\n",
      "Done!\n"
     ]
    }
   ],
   "source": [
    "#Pull out the names 7 times at the 18th url location starting with http://py4e-data.dr-chuck.net/known_by_Harish.html\n",
    "\n",
    "from urllib.request import urlopen\n",
    "from bs4 import BeautifulSoup\n",
    "import ssl\n",
    "import re\n",
    " \n",
    "\n",
    "def get_name():\n",
    "    global count\n",
    "    count = 0\n",
    "    url = input(\"enter link:\")\n",
    "    html = urllib.request.urlopen(url, context=ctx).read()\n",
    "    soup = BeautifulSoup(html, \"html.parser\")\n",
    "\n",
    "    # Retrieve all of the anchor tags\n",
    "    tags = soup('a')\n",
    "    for tag in tags:\n",
    "        count = count + 1\n",
    "        if count == 18:\n",
    "            print('18th href:', tag.get('href', None))\n",
    "\n",
    "for number in range(7):\n",
    "    print(number)\n",
    "    get_name()\n",
    "\n",
    "print('Done!')\n",
    "#final link is http://py4e-data.dr-chuck.net/known_by_Jeannie.html"
   ]
  },
  {
   "cell_type": "markdown",
   "id": "552e8cb8-2c89-4643-82bc-aea4877a1950",
   "metadata": {},
   "source": [
    "### 10. XML WEB SERVICES"
   ]
  },
  {
   "cell_type": "code",
   "execution_count": 26,
   "id": "5eddafc6-9b41-43eb-b307-7d89b605c4d4",
   "metadata": {},
   "outputs": [
    {
     "name": "stdout",
     "output_type": "stream",
     "text": [
      "Count of Values: 50\n",
      "Sum: 2573\n"
     ]
    }
   ],
   "source": [
    "# Compute the sum of the numbers in the file and enter the sum below:\n",
    "\n",
    "import urllib.request, urllib.parse, urllib.error\n",
    "import json\n",
    "\n",
    "#create an empty list\n",
    "lst = list()\n",
    "\n",
    "url = 'https://py4e-data.dr-chuck.net/comments_1667016.json'\n",
    "\n",
    "#read the url and decode it\n",
    "data = urllib.request.urlopen(url, context=ctx).read().decode()\n",
    "# print(data)\n",
    "\n",
    "#create a dictionary\n",
    "info = json.loads(data)\n",
    "# print(info)\n",
    "\n",
    "#loop through the comments, in the first list\n",
    "for n in info:\n",
    "    comments = info['comments']\n",
    "# print(comments)\n",
    "\n",
    "#loop through the counts and pull out the values. append the ints into a new list\n",
    "for i in comments:\n",
    "    total =  i['count']\n",
    "    lst.append(total)\n",
    "\n",
    "print('Count of Values:', len(lst))\n",
    "# print(lst)\n",
    "print('Sum:', sum(lst))"
   ]
  },
  {
   "cell_type": "code",
   "execution_count": 28,
   "id": "c4308658-b812-4556-937d-35c1a53c9081",
   "metadata": {},
   "outputs": [
    {
     "name": "stdout",
     "output_type": "stream",
     "text": [
      "Retrieving http://py4e-data.dr-chuck.net/json?address=California+State+University+San+Bernardino&key=42\n",
      "Retrieved 2177 characters\n",
      "place_id: ChIJ18hFFptRw4ARInn08NJCwfo\n"
     ]
    }
   ],
   "source": [
    "# Find the place ID for California State University San Bernardino\n",
    "\n",
    "api_key = False\n",
    "\n",
    "if api_key is False:\n",
    "    api_key = 42\n",
    "    serviceurl = 'http://py4e-data.dr-chuck.net/json?'\n",
    "else :\n",
    "    serviceurl = 'https://maps.googleapis.com/maps/api/geocode/json?'\n",
    "\n",
    "# Ignore SSL certificate errors\n",
    "ctx = ssl.create_default_context()\n",
    "ctx.check_hostname = False\n",
    "ctx.verify_mode = ssl.CERT_NONE\n",
    "\n",
    "\n",
    "address = 'California State University San Bernardino'\n",
    "\n",
    "parms = dict()\n",
    "parms['address'] = address\n",
    "if api_key is not False: parms['key'] = api_key\n",
    "url = serviceurl + urllib.parse.urlencode(parms)\n",
    "\n",
    "print('Retrieving', url)\n",
    "uh = urllib.request.urlopen(url, context=ctx)\n",
    "data = uh.read().decode()\n",
    "print('Retrieved', len(data), 'characters')\n",
    "\n",
    "try:\n",
    "    js = json.loads(data)\n",
    "except:\n",
    "    js = None\n",
    "\n",
    "if not js or 'status' not in js or js['status'] != 'OK':\n",
    "    print('==== Failure To Retrieve ====')\n",
    "    # print(data)\n",
    "\n",
    "# print(json.dumps(js, indent=4))\n",
    "\n",
    "pid = js['results'][0]['place_id']\n",
    "print('place_id:', pid)"
   ]
  },
  {
   "cell_type": "markdown",
   "id": "eeaf9def-4261-4fda-a34b-b7b4c5c80616",
   "metadata": {},
   "source": [
    "### 11. SQL"
   ]
  },
  {
   "cell_type": "code",
   "execution_count": 29,
   "id": "597eb302-f71a-4ca4-b8e1-101e7a1d5f10",
   "metadata": {},
   "outputs": [
    {
     "name": "stdout",
     "output_type": "stream",
     "text": [
      "iupui.edu 536\n",
      "umich.edu 491\n",
      "indiana.edu 178\n",
      "caret.cam.ac.uk 157\n",
      "vt.edu 110\n",
      "uct.ac.za 96\n",
      "media.berkeley.edu 56\n",
      "ufp.pt 28\n",
      "gmail.com 25\n",
      "et.gatech.edu 17\n"
     ]
    }
   ],
   "source": [
    "#count the number of times a domain has sent an email from the mbox.txt file.\n",
    "\n",
    "import sqlite3\n",
    "\n",
    "conn = sqlite3.connect('emaildb.sqlite')\n",
    "cur = conn.cursor()\n",
    "\n",
    "cur.execute('DROP TABLE IF EXISTS Counts')\n",
    "\n",
    "cur.execute('CREATE TABLE Counts (org TEXT, count INTEGER)')\n",
    "\n",
    "fname = 'mbox.txt'\n",
    "fh = open(fname)\n",
    "for line in fh:\n",
    "    if not line.startswith('From: '): continue\n",
    "    pieces = line.split()\n",
    "   \n",
    "    email = pieces[1]\n",
    "    split = email.split('@')\n",
    "    org = split[1]\n",
    "    cur.execute('SELECT count FROM Counts WHERE org = ? ', (org,))\n",
    "    row = cur.fetchone()\n",
    "    if row is None:\n",
    "        cur.execute('''INSERT INTO Counts (org, count)\n",
    "                VALUES (?, 1)''', (org,))\n",
    "    else:\n",
    "        cur.execute('UPDATE Counts SET count = count + 1 WHERE org = ?',\n",
    "                    (org,))\n",
    "    conn.commit()\n",
    "\n",
    "# https://www.sqlite.org/lang_select.html\n",
    "sqlstr = 'SELECT org, count FROM Counts ORDER BY count DESC LIMIT 10'\n",
    "\n",
    "for row in cur.execute(sqlstr):\n",
    "    print(str(row[0]), row[1])\n",
    "\n",
    "cur.close()"
   ]
  },
  {
   "cell_type": "code",
   "execution_count": 32,
   "id": "318bcc9d-d163-4a75-99b9-6263781f6aa6",
   "metadata": {},
   "outputs": [
    {
     "name": "stdin",
     "output_type": "stream",
     "text": [
      "Enter file name:  \n"
     ]
    },
    {
     "name": "stdout",
     "output_type": "stream",
     "text": [
      "Dict count: 404\n",
      "Tables Created!\n"
     ]
    }
   ],
   "source": [
    "# import XML data from ITUNES. Create a sql table from the information.\n",
    "\n",
    "import xml.etree.ElementTree as ET\n",
    "import sqlite3\n",
    "\n",
    "conn = sqlite3.connect('trackdb.sqlite')\n",
    "cur = conn.cursor()\n",
    "\n",
    "cur.executescript('''\n",
    "DROP TABLE IF EXISTS Artist;\n",
    "DROP TABLE IF EXISTS Album;\n",
    "DROP TABLE IF EXISTS Track;\n",
    "DROP TABLE IF EXISTS Genre;\n",
    "\n",
    "CREATE TABLE Artist (\n",
    "    id  INTEGER NOT NULL PRIMARY KEY AUTOINCREMENT UNIQUE,\n",
    "    name    TEXT UNIQUE\n",
    ");\n",
    "\n",
    "CREATE TABLE Genre (\n",
    "    id  INTEGER NOT NULL PRIMARY KEY AUTOINCREMENT UNIQUE,\n",
    "    name    TEXT UNIQUE\n",
    ");\n",
    "\n",
    "CREATE TABLE Album (\n",
    "    id  INTEGER NOT NULL PRIMARY KEY AUTOINCREMENT UNIQUE,\n",
    "    artist_id  INTEGER,\n",
    "    title   TEXT UNIQUE\n",
    ");\n",
    "\n",
    "CREATE TABLE Track (\n",
    "    id  INTEGER NOT NULL PRIMARY KEY \n",
    "        AUTOINCREMENT UNIQUE,\n",
    "    title TEXT  UNIQUE,\n",
    "    album_id  INTEGER,\n",
    "    genre_id  INTEGER,\n",
    "    len INTEGER, rating INTEGER, count INTEGER\n",
    ");\n",
    "''')\n",
    "\n",
    "\n",
    "fname = input('Enter file name: ')\n",
    "if ( len(fname) < 1 ) : fname = 'Library.xml'\n",
    "\n",
    "def lookup(d, key):\n",
    "    found = False\n",
    "    for child in d:\n",
    "        if found : return child.text\n",
    "        if child.tag == 'key' and child.text == key :\n",
    "            found = True\n",
    "    return None\n",
    "\n",
    "stuff = ET.parse(fname)\n",
    "all = stuff.findall('dict/dict/dict')\n",
    "print('Dict count:', len(all))\n",
    "for entry in all:\n",
    "    if ( lookup(entry, 'Track ID') is None ) : continue\n",
    "\n",
    "    name = lookup(entry, 'Name')\n",
    "    artist = lookup(entry, 'Artist')\n",
    "    genre = lookup(entry, 'Genre')\n",
    "    album = lookup(entry, 'Album')\n",
    "    count = lookup(entry, 'Play Count')\n",
    "    rating = lookup(entry, 'Rating')\n",
    "    length = lookup(entry, 'Total Time')\n",
    "\n",
    "    if name is None or artist is None or album is None or genre is None: \n",
    "        continue\n",
    "\n",
    "    # print(name, artist, album, count, rating, length, genre)\n",
    "\n",
    "#Artist    \n",
    "    cur.execute('''INSERT OR IGNORE INTO Artist (name) \n",
    "        VALUES ( ? )''', ( artist, ) )\n",
    "    cur.execute('SELECT id FROM Artist WHERE name = ? ', (artist, ))\n",
    "    artist_id = cur.fetchone()[0]\n",
    "\n",
    "#Genre    \n",
    "    cur.execute('''INSERT OR IGNORE INTO Genre (name) \n",
    "        VALUES ( ?)''', ( name,))\n",
    "    cur.execute('SELECT id FROM Genre WHERE name = ? ', (name, ))\n",
    "    genre_id = cur.fetchone()[0]\n",
    "\n",
    "#Album\n",
    "    cur.execute('''INSERT OR IGNORE INTO Album (title, artist_id) \n",
    "        VALUES ( ?, ? )''', ( album, artist_id ) )\n",
    "    cur.execute('SELECT id FROM Album WHERE title = ? ', (album, ))\n",
    "    album_id = cur.fetchone()[0]\n",
    "\n",
    "#Track    \n",
    "    cur.execute('''INSERT OR REPLACE INTO Track\n",
    "        (title, album_id,genre_id, len, rating, count) \n",
    "        VALUES ( ?, ?, ?, ?, ?, ? )''', \n",
    "        ( name, album_id, genre_id, length, rating, count ) )\n",
    "\n",
    "    conn.commit()\n",
    "print('Tables Created!')\n",
    "#SQL used in SQLite to pull information\n",
    "# Join the tables\n",
    "# SELECT Track.title, Artist.name, Album.title, Genre.name \n",
    "#     FROM Track JOIN Genre JOIN Album JOIN Artist \n",
    "#     ON Track.genre_id = Genre.ID and Track.album_id = Album.id \n",
    "#         AND Album.artist_id = Artist.id\n",
    "#     ORDER BY Artist.name LIMIT 3\n"
   ]
  },
  {
   "cell_type": "code",
   "execution_count": 33,
   "id": "9b1145e5-3ce0-4ced-a5e6-59e9dcce5360",
   "metadata": {},
   "outputs": [
    {
     "name": "stdin",
     "output_type": "stream",
     "text": [
      "Enter file name:  \n"
     ]
    },
    {
     "name": "stdout",
     "output_type": "stream",
     "text": [
      "Tables Created!\n"
     ]
    }
   ],
   "source": [
    "# Read roster data in JSON format, parse the file, and then produce an SQLite database that contains\n",
    "# a User, Course, and Member table and populate the tables from the data file 'roster_data.json'.\n",
    "\n",
    "import json\n",
    "import sqlite3\n",
    "\n",
    "conn = sqlite3.connect('rosterdb.sqlite')\n",
    "cur = conn.cursor()\n",
    "\n",
    "# Do some setup\n",
    "cur.executescript('''\n",
    "DROP TABLE IF EXISTS User;\n",
    "DROP TABLE IF EXISTS Member;\n",
    "DROP TABLE IF EXISTS Course;\n",
    "\n",
    "CREATE TABLE User (\n",
    "    id     INTEGER NOT NULL PRIMARY KEY AUTOINCREMENT UNIQUE,\n",
    "    name   TEXT UNIQUE\n",
    ");\n",
    "\n",
    "CREATE TABLE Course (\n",
    "    id     INTEGER NOT NULL PRIMARY KEY AUTOINCREMENT UNIQUE,\n",
    "    title  TEXT UNIQUE\n",
    ");\n",
    "\n",
    "CREATE TABLE Member (\n",
    "    user_id     INTEGER,\n",
    "    course_id   INTEGER,\n",
    "    role        INTEGER,\n",
    "    PRIMARY KEY (user_id, course_id)\n",
    ")\n",
    "''')\n",
    "\n",
    "fname = input('Enter file name: ')\n",
    "#used as a gaurd\n",
    "if len(fname) < 1:\n",
    "    fname = 'roster_data.json'\n",
    "\n",
    "str_data = open(fname).read()\n",
    "json_data = json.loads(str_data)\n",
    "\n",
    "for entry in json_data:\n",
    "\n",
    "    name = entry[0]\n",
    "    title = entry[1]\n",
    "    role = entry[2]\n",
    "\n",
    "    # print((name, title, role))\n",
    "\n",
    "#USER    \n",
    "    cur.execute('''INSERT OR IGNORE INTO User (name)\n",
    "        VALUES ( ? )''', ( name, ) )\n",
    "    cur.execute('SELECT id FROM User WHERE name = ? ', (name, ))\n",
    "    user_id = cur.fetchone()[0]\n",
    "\n",
    "#COURSE    \n",
    "    cur.execute('''INSERT OR IGNORE INTO Course (title)\n",
    "        VALUES ( ? )''', ( title, ) )\n",
    "    cur.execute('SELECT id FROM Course WHERE title = ? ', (title, ))\n",
    "    course_id = cur.fetchone()[0]\n",
    "\n",
    "#MEMBER    \n",
    "    cur.execute('''INSERT OR REPLACE INTO Member\n",
    "        (user_id, course_id, role) VALUES ( ?, ?, ? )''',\n",
    "        ( user_id, course_id, role ) )\n",
    "\n",
    "    conn.commit()\n",
    "print('Tables Created!')"
   ]
  },
  {
   "cell_type": "code",
   "execution_count": null,
   "id": "b99d82d1-7907-4340-9567-e5218875350e",
   "metadata": {},
   "outputs": [],
   "source": []
  }
 ],
 "metadata": {
  "kernelspec": {
   "display_name": "Python 3 (ipykernel)",
   "language": "python",
   "name": "python3"
  },
  "language_info": {
   "codemirror_mode": {
    "name": "ipython",
    "version": 3
   },
   "file_extension": ".py",
   "mimetype": "text/x-python",
   "name": "python",
   "nbconvert_exporter": "python",
   "pygments_lexer": "ipython3",
   "version": "3.10.6"
  }
 },
 "nbformat": 4,
 "nbformat_minor": 5
}
